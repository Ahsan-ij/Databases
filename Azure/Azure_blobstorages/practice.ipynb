{
 "cells": [
  {
   "cell_type": "markdown",
   "metadata": {},
   "source": [
    "### Azure Blob Storage (NO_SQL)\n",
    "##### In this Azure session, I practiced Blob Storage. I need a connection string to connect and a container to store files."
   ]
  },
  {
   "cell_type": "code",
   "execution_count": null,
   "metadata": {},
   "outputs": [],
   "source": [
    "## Import specific Libraries\n",
    "import json\n",
    "from azure.storage.blob import BlobServiceClient, BlobClient, ContainerClient"
   ]
  },
  {
   "cell_type": "markdown",
   "metadata": {},
   "source": [
    "### Connection with Azure"
   ]
  },
  {
   "cell_type": "code",
   "execution_count": null,
   "metadata": {},
   "outputs": [],
   "source": [
    "connection_string = \"DefaultEndpointsProtocol=https;AccountName=weekstatus;AccountKey=HHLN2dzHFRiDvs6N5SypUSA0RV6QZ1kT5GRgu0dHrAAB0wBy6IZdhhNs2iA5M6iPiaj04egxxMHh+AStH0nqrQ==;EndpointSuffix=core.windows.net\"\n",
    "blob_service_client = BlobServiceClient.from_connection_string(connection_string)"
   ]
  },
  {
   "cell_type": "markdown",
   "metadata": {},
   "source": [
    "### Create Container"
   ]
  },
  {
   "cell_type": "code",
   "execution_count": null,
   "metadata": {},
   "outputs": [],
   "source": [
    "# make new container for every connection string.\n",
    "container_name = \"mycontainer\""
   ]
  },
  {
   "cell_type": "markdown",
   "metadata": {},
   "source": [
    "### Loading data from Azure"
   ]
  },
  {
   "cell_type": "code",
   "execution_count": null,
   "metadata": {},
   "outputs": [],
   "source": [
    "with open('ipa_scraper_data.json', 'r') as json_file:\n",
    "    data = json.load(json_file) \n",
    "\n",
    "\n",
    "print(\"Fetched data from JSON file:\")\n",
    "print(data)\n",
    "\n",
    "\n",
    "data_string = json.dumps(data)"
   ]
  },
  {
   "cell_type": "markdown",
   "metadata": {},
   "source": [
    "### Uploading data to Azure"
   ]
  },
  {
   "cell_type": "code",
   "execution_count": null,
   "metadata": {},
   "outputs": [],
   "source": [
    "blob_client = blob_service_client.get_blob_client(container=container_name, blob=\"ipa_scrper_data1.json\")  \n",
    "\n",
    "blob_client.upload_blob(data_string, overwrite=True)\n",
    "\n",
    "print(\"File uploaded to  Blob Storage successfully!\")"
   ]
  },
  {
   "cell_type": "markdown",
   "metadata": {},
   "source": [
    "#### Fetching Data From container"
   ]
  },
  {
   "cell_type": "code",
   "execution_count": null,
   "metadata": {},
   "outputs": [],
   "source": [
    "from azure.storage.blob import BlobServiceClient\n",
    "\n",
    "\n",
    "connection_string = \"Connection String\"\n",
    "blob_service_client = BlobServiceClient.from_connection_string(connection_string)\n",
    "\n",
    "\n",
    "container_name = \"container_name\"  \n",
    "container_client = blob_service_client.get_container_client(container_name)\n",
    "\n",
    "blob_list = container_client.list_blobs()\n",
    "\n",
    "\n",
    "print(\"Blobs in the container:\")\n",
    "for blob in blob_list:\n",
    "    if blob.name == 'ipa_scrper_data2.json':\n",
    "        print(\"yes blob exist\")\n",
    "    else:\n",
    "        print(\"not exist\")"
   ]
  }
 ],
 "metadata": {
  "language_info": {
   "name": "python"
  }
 },
 "nbformat": 4,
 "nbformat_minor": 2
}

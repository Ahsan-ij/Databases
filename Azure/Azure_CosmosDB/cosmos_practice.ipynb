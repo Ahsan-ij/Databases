{
 "cells": [
  {
   "cell_type": "markdown",
   "metadata": {},
   "source": [
    "## CosmosDB(NoSQL) "
   ]
  },
  {
   "cell_type": "code",
   "execution_count": 2,
   "metadata": {},
   "outputs": [],
   "source": [
    "# Import Specific Librarier\n",
    "import json \n",
    "from azure.cosmos import CosmosClient"
   ]
  },
  {
   "cell_type": "markdown",
   "metadata": {},
   "source": [
    "#### Connection with Azure"
   ]
  },
  {
   "cell_type": "code",
   "execution_count": null,
   "metadata": {},
   "outputs": [],
   "source": [
    "connection_string = ''\n",
    "client = CosmosClient.from_connection_string(connection_string)"
   ]
  },
  {
   "cell_type": "markdown",
   "metadata": {},
   "source": [
    "#### Create DataBase"
   ]
  },
  {
   "cell_type": "code",
   "execution_count": null,
   "metadata": {},
   "outputs": [],
   "source": [
    "database_name = 'mydatabase'\n",
    "database = client.get_database_client(database_name)"
   ]
  },
  {
   "cell_type": "markdown",
   "metadata": {},
   "source": [
    "#### Create Container"
   ]
  },
  {
   "cell_type": "code",
   "execution_count": null,
   "metadata": {},
   "outputs": [],
   "source": [
    "container_name = 'products'\n",
    "container = database.get_container_client(container_name)"
   ]
  },
  {
   "cell_type": "code",
   "execution_count": null,
   "metadata": {},
   "outputs": [],
   "source": [
    "new_item = {\n",
    "    \"id\": \"1234567abcdef89\",\n",
    "    \"category\": \"Vegetable\",\n",
    "    \"name\": \"Carrot\",\n",
    "    \"quantity\": 12,\n",
    "    \"sale\": False,\n",
    "}\n",
    "\n",
    "created_item = container.upsert_item(new_item)"
   ]
  },
  {
   "cell_type": "code",
   "execution_count": null,
   "metadata": {},
   "outputs": [],
   "source": [
    "existing_item = container.read_item(\n",
    "    item = \"1234567abcdef89\",\n",
    "    category = \"Vegetable\"\n",
    ")"
   ]
  },
  {
   "cell_type": "markdown",
   "metadata": {},
   "source": [
    "#### Queries for fetching multiple data"
   ]
  },
  {
   "cell_type": "code",
   "execution_count": null,
   "metadata": {},
   "outputs": [],
   "source": [
    "queryText = \"SELECT * from product p where p.catogery  = Vegetable\"\n",
    "result = container.query_items(\n",
    "    query=queryText,\n",
    "    parameters= [\n",
    "        dict(\n",
    "            name = 'vegetable',\n",
    "            value = '1234567abcdef89'\n",
    "        )\n",
    "    ],\n",
    "    enable_cross_partition_query= False,\n",
    ")\n",
    "items = [item for item in result]\n",
    "output = json.dumps(items,indent=4)"
   ]
  }
 ],
 "metadata": {
  "kernelspec": {
   "display_name": "Python 3",
   "language": "python",
   "name": "python3"
  },
  "language_info": {
   "codemirror_mode": {
    "name": "ipython",
    "version": 3
   },
   "file_extension": ".py",
   "mimetype": "text/x-python",
   "name": "python",
   "nbconvert_exporter": "python",
   "pygments_lexer": "ipython3",
   "version": "3.12.4"
  }
 },
 "nbformat": 4,
 "nbformat_minor": 2
}

{
 "cells": [
  {
   "cell_type": "markdown",
   "metadata": {},
   "source": [
    "#### Azure MY_SQL Practice"
   ]
  },
  {
   "cell_type": "code",
   "execution_count": null,
   "metadata": {},
   "outputs": [],
   "source": [
    "# Make Connection with Azure\n",
    "\n",
    "import mysql.connector\n",
    "from mysql.connector import errorcode\n",
    "\n",
    "#Connection string information from the Azure\n",
    "\n",
    "config = {\n",
    "  'host':'<mydemoserver>.mysql.database.azure.com',\n",
    "  'user':'<myadmin>',\n",
    "  'password':'<mypassword>',\n",
    "  'database':'<mydatabase>'\n",
    "}\n",
    "\n",
    "# Construct connection string\n",
    "conn = mysql.connector.connect(config)\n",
    "cursor = conn.cursor()\n",
    "\n",
    "# Drop table if exist \n",
    "cursor.execute(\"DROP TABLE IF EXISTS inventory;\")\n",
    "print(\"Finished dropping table (if existed).\")\n",
    "\n",
    "# Create table\n",
    "cursor.execute(\"CREATE TABLE inventory (id serial PRIMARY KEY, name VARCHAR(50), quantity INTEGER);\")\n",
    "print(\"Finished creating table.\")\n",
    "\n",
    "# Insert some data into table\n",
    "cursor.execute(\"INSERT INTO inventory (name, quantity) VALUES (%s, %s);\", (\"banana\", 150))\n",
    "print(\"Inserted\",cursor.rowcount,\"row(s) of data.\")\n",
    "cursor.execute(\"INSERT INTO inventory (name, quantity) VALUES (%s, %s);\", (\"orange\", 154))\n",
    "print(\"Inserted\",cursor.rowcount,\"row(s) of data.\")\n",
    "cursor.execute(\"INSERT INTO inventory (name, quantity) VALUES (%s, %s);\", (\"apple\", 100))\n",
    "print(\"Inserted\",cursor.rowcount,\"row(s) of data.\")\n",
    "\n",
    "\n",
    "conn.commit()\n",
    "cursor.close()\n",
    "conn.close()\n"
   ]
  },
  {
   "cell_type": "markdown",
   "metadata": {},
   "source": [
    "### Read Data"
   ]
  },
  {
   "cell_type": "code",
   "execution_count": null,
   "metadata": {},
   "outputs": [],
   "source": [
    "import mysql.connector\n",
    "from mysql.connector import errorcode\n",
    "\n",
    "# connection string information from the Azure\n",
    "\n",
    "config = {\n",
    "  'host':'<mydemoserver>.mysql.database.azure.com',\n",
    "  'user':'<myadmin>',\n",
    "  'password':'<mypassword>',\n",
    "  'database':'<mydatabase>'\n",
    "}\n",
    "\n",
    "# Construct connection string\n",
    "conn = mysql.connector.connect(config)\n",
    "cursor = conn.cursor()\n",
    "\n",
    "\n",
    "# Read data\n",
    "cursor.execute(\"SELECT * FROM inventory;\")\n",
    "rows = cursor.fetchall()\n",
    "print(\"Read\",cursor.rowcount,\"row(s) of data.\")\n",
    "\n",
    "# Print all rows\n",
    "for row in rows:\n",
    "    print(row)\n",
    "\n",
    "conn.commit()\n",
    "cursor.close()\n",
    "conn.close()\n"
   ]
  },
  {
   "cell_type": "markdown",
   "metadata": {},
   "source": [
    "#### Delete the Record"
   ]
  },
  {
   "cell_type": "code",
   "execution_count": null,
   "metadata": {},
   "outputs": [],
   "source": [
    "import mysql.connector\n",
    "from mysql.connector import errorcode\n",
    "\n",
    "# connection string information from the Azure\n",
    "\n",
    "config = {\n",
    "  'host':'<mydemoserver>.mysql.database.azure.com',\n",
    "  'user':'<myadmin>',\n",
    "  'password':'<mypassword>',\n",
    "  'database':'<mydatabase>'\n",
    "}\n",
    "\n",
    "# Construct connection string\n",
    "conn = mysql.connector.connect(config)\n",
    "cursor = conn.cursor()\n",
    "\n",
    "\n",
    "\n",
    "# Delete a data row in the table\n",
    "cursor.execute(\"DELETE FROM inventory WHERE name=%(param1)s;\", {'param1':\"orange\"})\n",
    "print(\"Deleted\",cursor.rowcount,\"row(s) of data.\")\n",
    "\n",
    "# Cleanup\n",
    "conn.commit()\n",
    "cursor.close()\n",
    "conn.close()\n"
   ]
  }
 ],
 "metadata": {
  "language_info": {
   "name": "python"
  }
 },
 "nbformat": 4,
 "nbformat_minor": 2
}

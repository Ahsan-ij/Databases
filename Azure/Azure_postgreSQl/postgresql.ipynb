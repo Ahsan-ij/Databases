{
 "cells": [
  {
   "cell_type": "markdown",
   "metadata": {},
   "source": [
    "### Azure PostgreSQL Practice"
   ]
  },
  {
   "cell_type": "code",
   "execution_count": null,
   "metadata": {},
   "outputs": [],
   "source": [
    "# Making Connection with Azure \n",
    "\n",
    "import urllib.parse\n",
    "import os\n",
    "\n",
    "def get_connection_uri():\n",
    "\n",
    "\n",
    "    dbhost = os.environ['DBHOST']\n",
    "    dbname = os.environ['DBNAME']\n",
    "    dbuser = urllib.parse.quote(os.environ['DBUSER'])\n",
    "    password = os.environ['DBPASSWORD']\n",
    "   \n",
    "    \n",
    "    db_uri = f\"postgresql://{dbuser}:{password}@{dbhost}/{dbname}\"\n",
    "    return db_uri"
   ]
  },
  {
   "cell_type": "code",
   "execution_count": null,
   "metadata": {},
   "outputs": [],
   "source": [
    "#Creating Tables \n",
    "\n",
    "import psycopg2\n",
    "from get_conn import get_connection_uri\n",
    "\n",
    "conn_string = get_connection_uri()\n",
    "\n",
    "conn = psycopg2.connect(conn_string) \n",
    "print(\"Connection established\")\n",
    "cursor = conn.cursor()\n",
    "\n",
    "# Drop previous table of same name if one exists\n",
    "cursor.execute(\"DROP TABLE IF EXISTS inventory;\")\n",
    "\n",
    "\n",
    "# Create a table\n",
    "cursor.execute(\"CREATE TABLE inventory (id serial PRIMARY KEY, name VARCHAR(50), quantity INTEGER);\")\n",
    "print(\"Finished creating table\")\n",
    "\n",
    "# Insert some data \n",
    "cursor.execute(\"INSERT INTO inventory (name, quantity) VALUES (%s, %s);\", (\"banana\", 150))\n",
    "cursor.execute(\"INSERT INTO inventory (name, quantity) VALUES (%s, %s);\", (\"orange\", 154))\n",
    "cursor.execute(\"INSERT INTO inventory (name, quantity) VALUES (%s, %s);\", (\"apple\", 100))\n",
    "print(\"Inserted 3 rows of data\")\n",
    "\n",
    "\n",
    "conn.commit()\n",
    "cursor.close()\n",
    "conn.close()\n"
   ]
  },
  {
   "cell_type": "markdown",
   "metadata": {},
   "source": [
    "#### Read Data"
   ]
  },
  {
   "cell_type": "code",
   "execution_count": null,
   "metadata": {},
   "outputs": [],
   "source": [
    "import psycopg2\n",
    "from get_conn import get_connection_uri\n",
    "\n",
    "conn_string = get_connection_uri()\n",
    "\n",
    "conn = psycopg2.connect(conn_string) \n",
    "print(\"Connection established\")\n",
    "cursor = conn.cursor()\n",
    "\n",
    "# Fetch all rows from table\n",
    "cursor.execute(\"SELECT * FROM inventory;\")\n",
    "rows = cursor.fetchall()\n",
    "\n",
    "# Print all rows\n",
    "for row in rows:\n",
    "    print(\"Data row = (%s, %s, %s)\" %(str(row[0]), str(row[1]), str(row[2])))\n",
    "\n",
    "# Cleanup\n",
    "conn.commit()\n",
    "cursor.close()\n",
    "conn.close()"
   ]
  },
  {
   "cell_type": "markdown",
   "metadata": {},
   "source": [
    "#### Delete Data"
   ]
  },
  {
   "cell_type": "code",
   "execution_count": null,
   "metadata": {},
   "outputs": [],
   "source": [
    "import psycopg2\n",
    "from get_conn import get_connection_uri\n",
    "\n",
    "conn_string = get_connection_uri()\n",
    "\n",
    "conn = psycopg2.connect(conn_string) \n",
    "print(\"Connection established\")\n",
    "cursor = conn.cursor()\n",
    "\n",
    "# Delete data row from table\n",
    "cursor.execute(\"DELETE FROM inventory WHERE name = %s;\", (\"orange\",))\n",
    "print(\"Deleted 1 row of data\")\n",
    "\n",
    "\n",
    "conn.commit()\n",
    "cursor.close()\n",
    "conn.close()"
   ]
  }
 ],
 "metadata": {
  "kernelspec": {
   "display_name": "Python 3",
   "language": "python",
   "name": "python3"
  },
  "language_info": {
   "codemirror_mode": {
    "name": "ipython",
    "version": 3
   },
   "file_extension": ".py",
   "mimetype": "text/x-python",
   "name": "python",
   "nbconvert_exporter": "python",
   "pygments_lexer": "ipython3",
   "version": "3.12.4"
  }
 },
 "nbformat": 4,
 "nbformat_minor": 2
}

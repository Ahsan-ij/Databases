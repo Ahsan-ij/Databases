{
 "cells": [
  {
   "cell_type": "markdown",
   "metadata": {},
   "source": [
    "### Azure Blob Storage \n",
    "##### In this Azure session, I practiced Blob Storage. You need a connection string to connect and a container to store files."
   ]
  },
  {
   "cell_type": "code",
   "execution_count": 3,
   "metadata": {},
   "outputs": [],
   "source": [
    "## Import specific Libraries\n",
    "import json\n",
    "from azure.storage.blob import BlobServiceClient, BlobClient, ContainerClient"
   ]
  },
  {
   "cell_type": "markdown",
   "metadata": {},
   "source": [
    "#### Connection with Azure"
   ]
  },
  {
   "cell_type": "code",
   "execution_count": null,
   "metadata": {},
   "outputs": [],
   "source": [
    "connection_string = \"connection_string\"\n",
    "blob_service_client = BlobServiceClient.from_connection_string(connection_string)"
   ]
  },
  {
   "cell_type": "markdown",
   "metadata": {},
   "source": [
    "#### Create Container"
   ]
  },
  {
   "cell_type": "code",
   "execution_count": null,
   "metadata": {},
   "outputs": [],
   "source": [
    "# make new container for every connection string.\n",
    "container_name = \"container_name\""
   ]
  },
  {
   "cell_type": "markdown",
   "metadata": {},
   "source": [
    "#### Loading Data from json "
   ]
  },
  {
   "cell_type": "code",
   "execution_count": null,
   "metadata": {},
   "outputs": [],
   "source": [
    "with open('ipa_scraper_data.json', 'r') as json_file:\n",
    "    data = json.load(json_file) \n",
    "\n",
    "\n",
    "print(\"Fetched data from JSON file:\")\n",
    "print(data)\n",
    "\n",
    "\n",
    "data_string = json.dumps(data)"
   ]
  },
  {
   "cell_type": "markdown",
   "metadata": {},
   "source": [
    "#### Uploading data to Azure"
   ]
  },
  {
   "cell_type": "code",
   "execution_count": null,
   "metadata": {},
   "outputs": [],
   "source": [
    "blob_client = blob_service_client.get_blob_client(container=container_name, blob=\"ipa_scrper_data1.json\")  \n",
    "\n",
    "blob_client.upload_blob(data_string, overwrite=True)\n",
    "\n",
    "print(\"File uploaded to  Blob Storage successfully!\")"
   ]
  },
  {
   "cell_type": "markdown",
   "metadata": {},
   "source": [
    "#### Fetch Data from specific Container"
   ]
  },
  {
   "cell_type": "code",
   "execution_count": null,
   "metadata": {},
   "outputs": [],
   "source": [
    "from azure.storage.blob import BlobServiceClient\n",
    "\n",
    "\n",
    "connection_string = \"Connection String\"\n",
    "blob_service_client = BlobServiceClient.from_connection_string(connection_string)\n",
    "\n",
    "\n",
    "container_name = \"container_name\"  \n",
    "container_client = blob_service_client.get_container_client(container_name)\n",
    "\n",
    "blob_list = container_client.list_blobs()\n",
    "\n",
    "\n",
    "print(\"Blobs in the container:\")\n",
    "for blob in blob_list:\n",
    "    if blob.name == 'ipa_scrper_data2.json':\n",
    "        print(\"yes blob exist\")\n",
    "    else:\n",
    "        print(\"not exist\")"
   ]
  }
 ],
 "metadata": {
  "kernelspec": {
   "display_name": "Python 3",
   "language": "python",
   "name": "python3"
  },
  "language_info": {
   "codemirror_mode": {
    "name": "ipython",
    "version": 3
   },
   "file_extension": ".py",
   "mimetype": "text/x-python",
   "name": "python",
   "nbconvert_exporter": "python",
   "pygments_lexer": "ipython3",
   "version": "3.12.4"
  }
 },
 "nbformat": 4,
 "nbformat_minor": 2
}

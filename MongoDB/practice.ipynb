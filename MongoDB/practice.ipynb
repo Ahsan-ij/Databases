{
 "cells": [
  {
   "cell_type": "markdown",
   "metadata": {},
   "source": [
    "## Practice Queries For MongoDB"
   ]
  },
  {
   "cell_type": "code",
   "execution_count": 11,
   "metadata": {},
   "outputs": [],
   "source": [
    "#For Building Up the Connection:\n",
    "\n",
    "from pymongo import MongoClient\n",
    "client = MongoClient('mongodb://localhost:27017')\n",
    "db = client['practice']\n",
    "collection = db['Internship']\n",
    "\n"
   ]
  },
  {
   "cell_type": "code",
   "execution_count": null,
   "metadata": {},
   "outputs": [],
   "source": [
    "#Inserted one type of document:\n",
    "\n",
    "col1 = {\"name\":\"Touseef\",\"age\":28,\"Fav_color\":'White'}\n",
    "result = collection.insert_one(col1)\n",
    "print(result)"
   ]
  },
  {
   "cell_type": "code",
   "execution_count": null,
   "metadata": {},
   "outputs": [],
   "source": [
    "#Inserted many document:\n",
    "\n",
    "col2 = [{\"name\":\"Hamza\",\"age\":25,\"Fav_color\":\"Black\"},\n",
    "        {\"name\":\"Ahsan\",\"age\":21,\"Fav_color\":\"White\"},\n",
    "        {\"name\":\"Aliyan\",\"age\":26,\"Fav_color\":\"Brown\"},\n",
    "        {\"name\":\"Saddique\",\"age\":27,\"Fav_color\":\"Yellow\"},\n",
    "        {\"name\":\"Faizan\",\"age\":23,\"Fav_color\":\"Black\"},\n",
    "        {\"name\":\"Taha\",\"age\":25,\"Fav_color\":\"Red\"},\n",
    "        {\"name\":\"Farhan\",\"age\":28,\"Fav_color\":\"Purple\"},\n",
    "        {\"name\":\"Numan\",\"age\":29,\"Fav_color\":\"Orange\"},\n",
    "        {\"name\":\"Sher\",\"age\":30,\"Fav_color\":\"Black\"}\n",
    "        ]\n",
    "result = collection.insert_many(col2)\n",
    "for x in col2:\n",
    "    print(x)"
   ]
  },
  {
   "cell_type": "code",
   "execution_count": null,
   "metadata": {},
   "outputs": [],
   "source": [
    "#Find Query For One :\n",
    "\n",
    "result = collection.find_one({'age': 25})\n",
    "print(result)\n",
    "\n",
    " "
   ]
  },
  {
   "cell_type": "code",
   "execution_count": null,
   "metadata": {},
   "outputs": [],
   "source": [
    "#Find Query for Many:\n",
    "result = collection.find({'Fav_color':'Black'})\n",
    "for x in result:\n",
    "    print(x)"
   ]
  },
  {
   "cell_type": "code",
   "execution_count": null,
   "metadata": {},
   "outputs": [],
   "source": [
    "#Find with Condition:\n",
    "\n",
    "result = collection.find({},{'name':1 , '_id':0})\n",
    "for x in result:\n",
    "    print(x)"
   ]
  },
  {
   "cell_type": "code",
   "execution_count": null,
   "metadata": {},
   "outputs": [],
   "source": [
    "#Conditions:\n",
    "\n",
    "query = {'age':{'$gt':25}}\n",
    "result = collection.find(query,{'_id':0, 'Fav_color': 0})\n",
    "for x in result:\n",
    "    print(x)"
   ]
  },
  {
   "cell_type": "code",
   "execution_count": null,
   "metadata": {},
   "outputs": [],
   "source": [
    "#Update One documents:\n",
    "\n",
    "result = collection.update_many({'age': 28} ,{'$set': {'age':38}})\n",
    "\n",
    "updated_result = collection.find({'age':38},{'_id': 0 , 'Fav_color': 0})\n",
    "for x in updated_result:\n",
    "    print(x)"
   ]
  },
  {
   "cell_type": "code",
   "execution_count": null,
   "metadata": {},
   "outputs": [],
   "source": [
    "#Delete one Documents:\n",
    "\n",
    "result = collection.delete_one({'name':'Saddique'})\n",
    "print(result)"
   ]
  },
  {
   "cell_type": "code",
   "execution_count": null,
   "metadata": {},
   "outputs": [],
   "source": [
    "#Delete Many Documents:\n",
    "\n",
    "result = collection.delete_many({'Fav_color':'Black'})\n",
    "print(result)"
   ]
  },
  {
   "cell_type": "markdown",
   "metadata": {},
   "source": [
    "## Queries for practice:"
   ]
  },
  {
   "cell_type": "code",
   "execution_count": null,
   "metadata": {},
   "outputs": [],
   "source": [
    "query = {\"name\":{\"$regex\" : 'A'}}\n",
    "result = collection.find(query)\n",
    "for x in result:\n",
    "    print(x)"
   ]
  },
  {
   "cell_type": "code",
   "execution_count": null,
   "metadata": {},
   "outputs": [],
   "source": [
    "import datetime\n",
    "result = collection.update_many({'name': 'Numan'}, \n",
    "                                {\n",
    "                                    '$set':{'name':'Afsar'},\n",
    "                                    '$setOnInsert':{'created at': datetime.datetime.now()}\n",
    "                                },\n",
    "                               upsert=True)\n",
    "print(\"Modified count:\",result.modified_count)\n",
    "print(\"Upserted count:\", result.upserted_id is not None)"
   ]
  },
  {
   "cell_type": "code",
   "execution_count": null,
   "metadata": {},
   "outputs": [],
   "source": [
    "result = collection.delete_one({'$where': \"this.age > 20\"})\n",
    "print(result)"
   ]
  }
 ],
 "metadata": {
  "kernelspec": {
   "display_name": "venv_name",
   "language": "python",
   "name": "python3"
  },
  "language_info": {
   "codemirror_mode": {
    "name": "ipython",
    "version": 3
   },
   "file_extension": ".py",
   "mimetype": "text/x-python",
   "name": "python",
   "nbconvert_exporter": "python",
   "pygments_lexer": "ipython3",
   "version": "3.12.4"
  }
 },
 "nbformat": 4,
 "nbformat_minor": 2
}

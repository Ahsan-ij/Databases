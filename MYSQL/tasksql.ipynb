{
 "cells": [
  {
   "cell_type": "markdown",
   "metadata": {},
   "source": [
    "## Task 01"
   ]
  },
  {
   "cell_type": "code",
   "execution_count": null,
   "metadata": {},
   "outputs": [],
   "source": [
    "import mysql.connector\n",
    "db = mysql.connector.connect(\n",
    "    host = 'localhost',\n",
    "    user = 'root',\n",
    "    password = 'Ahsan12$',\n",
    "    database = 'IIUI'\n",
    ")\n",
    "mycursor = db.cursor()\n",
    "\n",
    "mycursor.execute('CREATE DATABASE IIUI')\n",
    "mycursor.execute('CREATE TABLE employees (Id int PRIMARY KEY NOT NULL AUTO_INCREMENT , name VARCHAR(100) , department_id int , salary float)')\n",
    "mycursor.execute('CREATE TABLE deptartments (Id int PRIMARY KEY NOT NULL AUTO_INCREMENT , name VARCHAR(100))')\n",
    "\n",
    "mycursor.execute('INSERT INTO employees (name,department_id,salary) VALUES (%s,%s,%s)', ('Bob Brown',3,45000))\n",
    "mycursor.execute(\"INSERT INTO deptartments (name) VALUES (%s)\" , ('Sales',))\n",
    "\n",
    "#Retrieve Data:\n",
    "\n",
    "mycursor.execute('SELECT name,salary FROM employees')\n",
    "results = mycursor.fetchall()\n",
    "for row in results:\n",
    "    print(f\"Name:{row[0]},Salary:{row[1]}\")\n",
    "\n",
    "#Filtering Data:\n",
    "\n",
    "mycursor.execute(\"SELECT * FROM employees WHERE department_id = 2  AND salary > 55000\")\n",
    "results = mycursor.fetchall()\n",
    "for row in results:\n",
    "    print(row)\n",
    "\n",
    "#Aggregate Functions:\n",
    "\n",
    "mycursor.execute('SELECT department_id,Avg(salary) AS avg_salary FROM employees GROUP BY department_id ')\n",
    "result = mycursor.fetchall()\n",
    "for row in result:\n",
    "    print(row)\n",
    "\n",
    "#Update Data\n",
    "\n",
    "mycursor.execute(\"UPDATE employees set salary = 52000 where name = 'John Doe'\")\n",
    "db.commit()\n",
    "result = mycursor.fetchall()\n",
    "for row in result:\n",
    "    print(row)\n",
    "\n",
    "#Delete row\n",
    "\n",
    "mycursor.execute(\"DELETE from employees where name = 'Alice Lee' \")\n",
    "db.commit()\n",
    "\n",
    "#Grouping and Counting\n",
    "\n",
    "mycursor.execute(\"SELECT department_id,count(*) AS employee_count FROM employees GROUP BY department_id\")\n",
    "result = mycursor.fetchall()\n",
    "for row in result:\n",
    "    print(row)\n",
    "\n",
    "\n",
    "\n"
   ]
  }
 ],
 "metadata": {
  "kernelspec": {
   "display_name": "venv_name",
   "language": "python",
   "name": "python3"
  },
  "language_info": {
   "codemirror_mode": {
    "name": "ipython",
    "version": 3
   },
   "file_extension": ".py",
   "mimetype": "text/x-python",
   "name": "python",
   "nbconvert_exporter": "python",
   "pygments_lexer": "ipython3",
   "version": "3.12.4"
  }
 },
 "nbformat": 4,
 "nbformat_minor": 2
}
